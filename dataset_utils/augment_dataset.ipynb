{
 "cells": [
  {
   "cell_type": "markdown",
   "metadata": {},
   "source": [
    "### Notebook that multiplies the data in a YOLOv8 object detection dataset via use of various transformations, without need for relabelling the bounding boxes."
   ]
  },
  {
   "cell_type": "markdown",
   "metadata": {},
   "source": [
    "Install the required dependencies in your environment. This can be done in the notebook as well:"
   ]
  },
  {
   "cell_type": "code",
   "execution_count": null,
   "metadata": {},
   "outputs": [],
   "source": [
    "%pip install imgaug"
   ]
  },
  {
   "cell_type": "code",
   "execution_count": null,
   "metadata": {},
   "outputs": [],
   "source": [
    "import os\n",
    "import cv2\n",
    "import numpy as np\n",
    "import imgaug as ia\n",
    "import imgaug.augmenters as iaa\n",
    "from imgaug.augmentables.bbs import BoundingBox, BoundingBoxesOnImage"
   ]
  },
  {
   "cell_type": "markdown",
   "metadata": {},
   "source": [
    "Specify the paths to the dataset"
   ]
  },
  {
   "cell_type": "code",
   "execution_count": null,
   "metadata": {},
   "outputs": [],
   "source": [
    "DIR = '../data/real_dataset'\n",
    "SUBDIR = 'train'\n",
    "NEW_DIR = f'{DIR}_augmented'"
   ]
  },
  {
   "cell_type": "code",
   "execution_count": null,
   "metadata": {},
   "outputs": [],
   "source": [
    "input_dir = f'{DIR}/{SUBDIR}/images'\n",
    "label_dir = f'{DIR}/{SUBDIR}/labels'\n",
    "output_img_dir = f'{NEW_DIR}/{SUBDIR}/images'\n",
    "output_label_dir = f'{NEW_DIR}/{SUBDIR}/labels'"
   ]
  },
  {
   "cell_type": "markdown",
   "metadata": {},
   "source": [
    "Specify the transformations used for augmentation:"
   ]
  },
  {
   "cell_type": "code",
   "execution_count": null,
   "metadata": {},
   "outputs": [],
   "source": [
    "seq = iaa.Sequential([\n",
    "    iaa.Crop(percent=(0, 0.1)),  # Random crops\n",
    "    iaa.Affine(scale=(0.5, 1.5)),  # Scaling\n",
    "    iaa.Multiply((0.8, 1.2)),  # Change brightness\n",
    "    iaa.LinearContrast((0.75, 1.5)),  # Change contrast\n",
    "    iaa.Affine(rotate=(-15, 15))  # Rotation\n",
    "])"
   ]
  },
  {
   "cell_type": "code",
   "execution_count": null,
   "metadata": {},
   "outputs": [],
   "source": [
    "os.makedirs(output_img_dir, exist_ok=True)\n",
    "os.makedirs(output_label_dir, exist_ok=True)"
   ]
  },
  {
   "cell_type": "code",
   "execution_count": null,
   "metadata": {},
   "outputs": [],
   "source": [
    "def read_yolo_labels(label_path):\n",
    "    with open(label_path, 'r') as file:\n",
    "        lines = file.readlines()\n",
    "        labels = []\n",
    "        for line in lines:\n",
    "            parts = line.strip().split()\n",
    "            cls, cx, cy, w, h = map(float, parts)\n",
    "            labels.append((cls, cx, cy, w, h))\n",
    "        return labels\n",
    "\n",
    "\n",
    "def save_yolo_labels(label_path, labels):\n",
    "    with open(label_path, 'w') as file:\n",
    "        for label in labels:\n",
    "            file.write(' '.join(map(str, label)) + '\\n')\n",
    "\n",
    "\n",
    "def augment_image_and_labels(image, labels):\n",
    "    h, w = image.shape[:2]\n",
    "    bbs = BoundingBoxesOnImage([\n",
    "        BoundingBox(\n",
    "            x1=(cx - 0.5 * bw) * w,\n",
    "            y1=(cy - 0.5 * bh) * h,\n",
    "            x2=(cx + 0.5 * bw) * w,\n",
    "            y2=(cy + 0.5 * bh) * h,\n",
    "            label=int(cls)  # Ensure the label is set correctly\n",
    "        ) for cls, cx, cy, bw, bh in labels\n",
    "    ], shape=image.shape)\n",
    "\n",
    "    # Augment image and bounding boxes\n",
    "    image_aug, bbs_aug = seq(image=image, bounding_boxes=bbs)\n",
    "\n",
    "    # Convert bounding boxes back to YOLO format\n",
    "    labels_aug = []\n",
    "    for bb in bbs_aug.bounding_boxes:\n",
    "        cx = (bb.x1 + bb.x2) / 2 / w\n",
    "        cy = (bb.y1 + bb.y2) / 2 / h\n",
    "        bw = (bb.x2 - bb.x1) / w\n",
    "        bh = (bb.y2 - bb.y1) / h\n",
    "        labels_aug.append((bb.label, cx, cy, bw, bh))\n",
    "\n",
    "    return image_aug, labels_aug"
   ]
  },
  {
   "cell_type": "markdown",
   "metadata": {},
   "source": [
    "Process each image and its label:"
   ]
  },
  {
   "cell_type": "code",
   "execution_count": null,
   "metadata": {},
   "outputs": [],
   "source": [
    "for image_name in os.listdir(input_dir):\n",
    "    if image_name.endswith('.jpg'):\n",
    "        base_name = os.path.splitext(image_name)[0]\n",
    "        img_path = os.path.join(input_dir, image_name)\n",
    "        label_path = os.path.join(label_dir, base_name + '.txt')\n",
    "\n",
    "        # Read image and labels\n",
    "        image = cv2.imread(img_path)\n",
    "        labels = read_yolo_labels(label_path)\n",
    "\n",
    "        # Augment and save multiple versions\n",
    "        for i in range(10):  # Number of augmentations per image\n",
    "            image_aug, labels_aug = augment_image_and_labels(image, labels)\n",
    "            aug_img_path = os.path.join(output_img_dir, f'{base_name}_aug_{i}.jpg')\n",
    "            aug_label_path = os.path.join(output_label_dir, f'{base_name}_aug_{i}.txt')\n",
    "            \n",
    "            # Save augmented image and label\n",
    "            cv2.imwrite(aug_img_path, image_aug)\n",
    "            save_yolo_labels(aug_label_path, labels_aug)"
   ]
  },
  {
   "cell_type": "markdown",
   "metadata": {},
   "source": [
    "### Visualize a random image with the new label:"
   ]
  },
  {
   "cell_type": "code",
   "execution_count": null,
   "metadata": {},
   "outputs": [],
   "source": [
    "import matplotlib.pyplot as plt\n",
    "import random"
   ]
  },
  {
   "cell_type": "code",
   "execution_count": null,
   "metadata": {},
   "outputs": [],
   "source": [
    "def draw_bounding_boxes(image, labels):\n",
    "    fig, ax = plt.subplots(1)\n",
    "    ax.imshow(cv2.cvtColor(image, cv2.COLOR_BGR2RGB))\n",
    "    h, w = image.shape[:2]\n",
    "\n",
    "    for label in labels:\n",
    "        cls, cx, cy, bw, bh = label\n",
    "        x1 = int((cx - bw / 2) * w)\n",
    "        y1 = int((cy - bh / 2) * h)\n",
    "        x2 = int((cx + bw / 2) * w)\n",
    "        y2 = int((cy + bh / 2) * h)\n",
    "        rect = plt.Rectangle((x1, y1), x2 - x1, y2 - y1, edgecolor='r', facecolor='none')\n",
    "        ax.add_patch(rect)\n",
    "\n",
    "    plt.show()"
   ]
  },
  {
   "cell_type": "code",
   "execution_count": null,
   "metadata": {},
   "outputs": [],
   "source": [
    "# Select a random augmented image and its labels\n",
    "aug_images = [f for f in os.listdir(output_img_dir) if f.endswith('.jpg')]\n",
    "random_image_name = random.choice(aug_images)\n",
    "base_name = os.path.splitext(random_image_name)[0]\n",
    "random_img_path = os.path.join(output_img_dir, random_image_name)\n",
    "random_label_path = os.path.join(output_label_dir, base_name + '.txt')\n",
    "\n",
    "# Read the image and labels\n",
    "image = cv2.imread(random_img_path)\n",
    "labels = read_yolo_labels(random_label_path)\n",
    "\n",
    "# Draw the image with bounding boxes\n",
    "draw_bounding_boxes(image, labels)\n"
   ]
  },
  {
   "cell_type": "markdown",
   "metadata": {},
   "source": [
    "Note that some bounding boxes may require clipping."
   ]
  }
 ],
 "metadata": {
  "kernelspec": {
   "display_name": "Python 3",
   "language": "python",
   "name": "python3"
  },
  "language_info": {
   "codemirror_mode": {
    "name": "ipython",
    "version": 3
   },
   "file_extension": ".py",
   "mimetype": "text/x-python",
   "name": "python",
   "nbconvert_exporter": "python",
   "pygments_lexer": "ipython3",
   "version": "3.8.10"
  }
 },
 "nbformat": 4,
 "nbformat_minor": 2
}
